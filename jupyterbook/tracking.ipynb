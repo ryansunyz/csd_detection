{
 "cells": [
  {
   "cell_type": "code",
   "execution_count": 1,
   "metadata": {},
   "outputs": [],
   "source": [
    "import cv2\n",
    "import numpy as np\n",
    "import yaml\n",
    "import imutils"
   ]
  },
  {
   "cell_type": "code",
   "execution_count": 2,
   "metadata": {},
   "outputs": [],
   "source": [
    "# Define the callback function that we are going to use to get our coordinates\n",
    "def CallBackFunc(event, x, y, flags, param):\n",
    "    if event == cv2.EVENT_LBUTTONDOWN:\n",
    "        print(\"Left button of the mouse is clicked - position (\", x, \", \",y, \")\")\n",
    "        list_points.append([x,y])\n",
    "    elif event == cv2.EVENT_RBUTTONDOWN:\n",
    "        print(\"Right button of the mouse is clicked - position (\", x, \", \", y, \")\")\n",
    "        list_points.append([x,y])"
   ]
  },
  {
   "cell_type": "code",
   "execution_count": 27,
   "metadata": {},
   "outputs": [],
   "source": [
    "size_frame = 800\n",
    "\n",
    "\n",
    "# vs = cv2.VideoCapture(\"../video/\"+video_name)\n",
    "vs = cv2.VideoCapture(\"/home/autolab/dl/tracking/csd_detection/video/PETS2009.avi\")\n",
    "\n",
    "while True:\n",
    "    (frame_exists, frame) = vs.read()\n",
    "    frame = imutils.resize(frame, width = int(size_frame))\n",
    "    cv2.imwrite(\"./img/static_frame_from_video.jpg\", frame)\n",
    "    break"
   ]
  },
  {
   "cell_type": "code",
   "execution_count": null,
   "metadata": {},
   "outputs": [
    {
     "name": "stdout",
     "output_type": "stream",
     "text": [
      "Left button of the mouse is clicked - position ( 133 ,  79 )\n",
      "Right button of the mouse is clicked - position ( 707 ,  457 )\n",
      "Left button of the mouse is clicked - position ( 653 ,  107 )\n"
     ]
    }
   ],
   "source": [
    "# Create a black image and a window\n",
    "windowName = 'MouseCallback'\n",
    "cv2.namedWindow(windowName)\n",
    "\n",
    "\n",
    "# Load the image \n",
    "img_path = \"./img/static_frame_from_video.jpg\"\n",
    "img = cv2.imread(img_path)\n",
    "\n",
    "# Get the size of the image for the calibration\n",
    "width,height,_ = img.shape\n",
    "\n",
    "# Create an empty list of points for the coordinates\n",
    "list_points = list()\n",
    "\n",
    "# bind the callback function to window\n",
    "cv2.setMouseCallback(windowName, CallBackFunc)\n",
    "\n",
    "\n",
    "if __name__ == \"__main__\":\n",
    "    # Check if the 4 points have been saved\n",
    "    while (True):\n",
    "        cv2.imshow(windowName, img)\n",
    "        if len(list_points) == 4:\n",
    "            # Return a dict to the YAML file\n",
    "            config_data = dict(\n",
    "                image_parameters = dict(\n",
    "                    p2 = list_points[3],\n",
    "                    p1 = list_points[2],\n",
    "                    p4 = list_points[0],\n",
    "                    p3 = list_points[1],\n",
    "                    width_og = width,\n",
    "                    height_og = height,\n",
    "                    img_path = img_path,\n",
    "                    size_frame = size_frame,\n",
    "                    ))\n",
    "            # Write the result to the config file\n",
    "            with open('./conf/config_birdview.yml', 'w') as outfile:\n",
    "                yaml.dump(config_data, outfile, default_flow_style=False)\n",
    "            break\n",
    "        if cv2.waitKey(20) == 27:\n",
    "            break\n",
    "    cv2.destroyAllWindows()"
   ]
  },
  {
   "cell_type": "code",
   "execution_count": null,
   "metadata": {},
   "outputs": [],
   "source": []
  }
 ],
 "metadata": {
  "kernelspec": {
   "display_name": "Python 3",
   "language": "python",
   "name": "python3"
  },
  "language_info": {
   "codemirror_mode": {
    "name": "ipython",
    "version": 3
   },
   "file_extension": ".py",
   "mimetype": "text/x-python",
   "name": "python",
   "nbconvert_exporter": "python",
   "pygments_lexer": "ipython3",
   "version": "3.7.6"
  }
 },
 "nbformat": 4,
 "nbformat_minor": 4
}
